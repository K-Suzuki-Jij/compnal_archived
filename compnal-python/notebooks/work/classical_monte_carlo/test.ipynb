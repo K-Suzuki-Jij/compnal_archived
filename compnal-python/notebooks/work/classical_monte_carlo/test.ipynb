{
 "cells": [
  {
   "cell_type": "code",
   "execution_count": 1,
   "metadata": {},
   "outputs": [],
   "source": [
    "import base_compnal\n",
    "import openjij as oj\n",
    "import itertools\n",
    "import matplotlib.pyplot as plt"
   ]
  },
  {
   "cell_type": "code",
   "execution_count": 2,
   "metadata": {},
   "outputs": [],
   "source": [
    "N = 15\n",
    "polynomial_degree = 3\n",
    "num_sweeps = 1000\n",
    "num_samples = 1000\n",
    "beta = 0.0001"
   ]
  },
  {
   "cell_type": "code",
   "execution_count": 3,
   "metadata": {},
   "outputs": [],
   "source": [
    "J = {}\n",
    "for p in range(polynomial_degree):\n",
    "    for i in itertools.combinations([i for i in range(N)], p + 1):\n",
    "        J[i] = -1\n",
    "interaction = [-1 for p in range(polynomial_degree)]"
   ]
  },
  {
   "cell_type": "code",
   "execution_count": 4,
   "metadata": {},
   "outputs": [],
   "source": [
    "model = base_compnal.model.PolynomialIsing(N, interaction, base_compnal.Lattice.INFINIT_RANGE)\n",
    "solver = base_compnal.solver.ClassicalMonteCarlo(model, base_compnal.Updater.METROPOLIS)\n",
    "solver.set_num_sweeps(num_sweeps)\n",
    "solver.set_num_samples(num_samples)\n",
    "solver.set_inverse_temperature(beta)"
   ]
  },
  {
   "cell_type": "code",
   "execution_count": 5,
   "metadata": {},
   "outputs": [],
   "source": [
    "solver.run()"
   ]
  },
  {
   "cell_type": "code",
   "execution_count": 6,
   "metadata": {},
   "outputs": [],
   "source": [
    "res = oj.SASampler().sample_hubo(J, \"SPIN\", num_sweeps=num_sweeps, num_reads=num_samples, beta_min=beta, beta_max=beta)"
   ]
  },
  {
   "cell_type": "code",
   "execution_count": 7,
   "metadata": {},
   "outputs": [
    {
     "data": {
      "text/plain": [
       "<matplotlib.legend.Legend at 0x11f8c9be0>"
      ]
     },
     "execution_count": 7,
     "metadata": {},
     "output_type": "execute_result"
    },
    {
     "data": {
      "image/png": "[encoded data removed]",
      "text/plain": [
       "<Figure size 432x288 with 1 Axes>"
      ]
     },
     "metadata": {
      "needs_background": "light"
     },
     "output_type": "display_data"
    }
   ],
   "source": [
    "e_min = min(min(res.energies), min(solver.get_energies()))\n",
    "e_max = max(max(res.energies), max(solver.get_energies()))\n",
    "plt.hist(res.energies, range=(e_min, e_max), label=\"OpenJij\", alpha=0.5)\n",
    "plt.hist(solver.get_energies(), range=(e_min, e_max), label=\"compnal\", alpha=0.5)\n",
    "plt.legend()"
   ]
  }
 ],
 "metadata": {
  "kernelspec": {
   "display_name": "Python 3.9.13 ('.venv': venv)",
   "language": "python",
   "name": "python3"
  },
  "language_info": {
   "codemirror_mode": {
    "name": "ipython",
    "version": 3
   },
   "file_extension": ".py",
   "mimetype": "text/x-python",
   "name": "python",
   "nbconvert_exporter": "python",
   "pygments_lexer": "ipython3",
   "version": "3.9.13"
  },
  "orig_nbformat": 4,
  "vscode": {
   "interpreter": {
    "hash": "24d017418cec40fa3b79e2fbded6b90ee9c3cb6e02aad0dfcf7ad24efbd288a9"
   }
  }
 },
 "nbformat": 4,
 "nbformat_minor": 2
}
