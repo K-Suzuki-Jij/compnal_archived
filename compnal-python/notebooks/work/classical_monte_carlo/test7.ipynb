{
 "cells": [
  {
   "cell_type": "code",
   "execution_count": 1,
   "metadata": {},
   "outputs": [],
   "source": [
    "import compnal\n",
    "import scipy.special\n",
    "import numpy as np\n",
    "import matplotlib.pyplot as plt\n",
    "from tqdm import tqdm"
   ]
  },
  {
   "cell_type": "code",
   "execution_count": 2,
   "metadata": {},
   "outputs": [
    {
     "ename": "TypeError",
     "evalue": "__init__() got an unexpected keyword argument 'boundary_condition'",
     "output_type": "error",
     "traceback": [
      "\u001b[0;31m---------------------------------------------------------------------------\u001b[0m",
      "\u001b[0;31mTypeError\u001b[0m                                 Traceback (most recent call last)",
      "\u001b[1;32m/Users/kohei/Dropbox/Project/compnal/compnal-python/notebooks/work/classical_monte_carlo/test7.ipynb Cell 2\u001b[0m in \u001b[0;36m<cell line: 5>\u001b[0;34m()\u001b[0m\n\u001b[1;32m      <a href='vscode-notebook-cell:/Users/kohei/Dropbox/Project/compnal/compnal-python/notebooks/work/classical_monte_carlo/test7.ipynb#W1sZmlsZQ%3D%3D?line=2'>3</a>\u001b[0m T_list \u001b[39m=\u001b[39m np\u001b[39m.\u001b[39marange(\u001b[39m1\u001b[39m, \u001b[39m1.1\u001b[39m, \u001b[39m0.2\u001b[39m)\n\u001b[1;32m      <a href='vscode-notebook-cell:/Users/kohei/Dropbox/Project/compnal/compnal-python/notebooks/work/classical_monte_carlo/test7.ipynb#W1sZmlsZQ%3D%3D?line=3'>4</a>\u001b[0m val \u001b[39m=\u001b[39m \u001b[39m-\u001b[39m\u001b[39m1.0\u001b[39m\u001b[39m/\u001b[39mscipy\u001b[39m.\u001b[39mspecial\u001b[39m.\u001b[39mbinom(N \u001b[39m-\u001b[39m \u001b[39m1\u001b[39m, deg \u001b[39m-\u001b[39m \u001b[39m1\u001b[39m)\n\u001b[0;32m----> <a href='vscode-notebook-cell:/Users/kohei/Dropbox/Project/compnal/compnal-python/notebooks/work/classical_monte_carlo/test7.ipynb#W1sZmlsZQ%3D%3D?line=4'>5</a>\u001b[0m lattice \u001b[39m=\u001b[39m compnal\u001b[39m.\u001b[39;49mlattice\u001b[39m.\u001b[39;49mInfiniteRange(N, boundary_condition\u001b[39m=\u001b[39;49mcompnal\u001b[39m.\u001b[39;49mlattice\u001b[39m.\u001b[39;49mBoundaryCondition\u001b[39m.\u001b[39;49mOBC)\n\u001b[1;32m      <a href='vscode-notebook-cell:/Users/kohei/Dropbox/Project/compnal/compnal-python/notebooks/work/classical_monte_carlo/test7.ipynb#W1sZmlsZQ%3D%3D?line=5'>6</a>\u001b[0m model \u001b[39m=\u001b[39m compnal\u001b[39m.\u001b[39mmodel\u001b[39m.\u001b[39mmake_polynomial_ising(lattice, {deg: \u001b[39m-\u001b[39mval})\n\u001b[1;32m      <a href='vscode-notebook-cell:/Users/kohei/Dropbox/Project/compnal/compnal-python/notebooks/work/classical_monte_carlo/test7.ipynb#W1sZmlsZQ%3D%3D?line=6'>7</a>\u001b[0m cmc \u001b[39m=\u001b[39m compnal\u001b[39m.\u001b[39msolver\u001b[39m.\u001b[39mClassicalMonteCarlo(model)\n",
      "\u001b[0;31mTypeError\u001b[0m: __init__() got an unexpected keyword argument 'boundary_condition'"
     ]
    }
   ],
   "source": [
    "N = 10\n",
    "deg = 3\n",
    "T_list = np.arange(1, 1.1, 0.2)\n",
    "val = -1.0/scipy.special.binom(N - 1, deg - 1)\n",
    "lattice = compnal.lattice.InfiniteRange(N, boundary_condition=compnal.lattice.BoundaryCondition.OBC)\n",
    "model = compnal.model.make_polynomial_ising(lattice, {deg: -val})\n",
    "cmc = compnal.solver.ClassicalMonteCarlo(model)\n",
    "cmc.num_sweeps = 50000\n",
    "cmc.num_samples = 50000\n",
    "cmc.num_threads = 10"
   ]
  },
  {
   "cell_type": "code",
   "execution_count": 3,
   "metadata": {},
   "outputs": [],
   "source": [
    "spin_list= []\n",
    "mag = []\n",
    "for T in tqdm(T_list):\n",
    "    cmc.set_temperature(T)\n",
    "    cmc.run()\n",
    "    mag.append(cmc.calculate_sample_average())\n",
    "    spin_list.append(cmc.get_samples())"
   ]
  },
  {
   "cell_type": "code",
   "execution_count": null,
   "metadata": {},
   "outputs": [
    {
     "data": {
      "text/plain": [
       "[<matplotlib.lines.Line2D at 0x11ed12790>]"
      ]
     },
     "execution_count": 8,
     "metadata": {},
     "output_type": "execute_result"
    },
    {
     "data": {
      "image/png": "[encoded data removed]",
      "text/plain": [
       "<Figure size 432x288 with 1 Axes>"
      ]
     },
     "metadata": {
      "needs_background": "light"
     },
     "output_type": "display_data"
    }
   ],
   "source": [
    "plt.plot(T_list, mag)"
   ]
  },
  {
   "cell_type": "code",
   "execution_count": null,
   "metadata": {},
   "outputs": [],
   "source": []
  }
 ],
 "metadata": {
  "kernelspec": {
   "display_name": "Python 3.9.13 ('.venv': venv)",
   "language": "python",
   "name": "python3"
  },
  "language_info": {
   "codemirror_mode": {
    "name": "ipython",
    "version": 3
   },
   "file_extension": ".py",
   "mimetype": "text/x-python",
   "name": "python",
   "nbconvert_exporter": "python",
   "pygments_lexer": "ipython3",
   "version": "3.9.13"
  },
  "orig_nbformat": 4,
  "vscode": {
   "interpreter": {
    "hash": "24d017418cec40fa3b79e2fbded6b90ee9c3cb6e02aad0dfcf7ad24efbd288a9"
   }
  }
 },
 "nbformat": 4,
 "nbformat_minor": 2
}
