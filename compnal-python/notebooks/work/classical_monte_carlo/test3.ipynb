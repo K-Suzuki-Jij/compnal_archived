{
 "cells": [
  {
   "cell_type": "code",
   "execution_count": 1,
   "metadata": {},
   "outputs": [],
   "source": [
    "import base_compnal\n",
    "import matplotlib.pyplot as plt\n",
    "import numpy as np\n",
    "import scipy.special\n",
    "from tqdm import tqdm"
   ]
  },
  {
   "cell_type": "code",
   "execution_count": 2,
   "metadata": {},
   "outputs": [],
   "source": [
    "N = 100\n",
    "polynomial_degree = 3\n",
    "num_sweeps = 1000\n",
    "num_samples = 1000\n",
    "T_list = np.arange(0.01, 0.021, 0.001)\n",
    "val = -1.0/scipy.special.binom(N - 1, polynomial_degree - 1)"
   ]
  },
  {
   "cell_type": "code",
   "execution_count": 3,
   "metadata": {},
   "outputs": [],
   "source": [
    "interaction = [0 for _ in range(polynomial_degree)]\n",
    "interaction[polynomial_degree - 1] = val"
   ]
  },
  {
   "cell_type": "code",
   "execution_count": 4,
   "metadata": {},
   "outputs": [],
   "source": [
    "model = base_compnal.model.PolynomialIsing(N, interaction, base_compnal.Lattice.INFINIT_RANGE)\n",
    "solver = base_compnal.solver.ClassicalMonteCarlo(model, base_compnal.Updater.METROPOLIS)\n",
    "solver.set_num_sweeps(num_sweeps)\n",
    "solver.set_num_samples(num_samples)"
   ]
  },
  {
   "cell_type": "code",
   "execution_count": 5,
   "metadata": {},
   "outputs": [
    {
     "name": "stderr",
     "output_type": "stream",
     "text": [
      "100%|██████████| 11/11 [03:46<00:00, 20.56s/it]\n",
      "100%|██████████| 11/11 [19:49<00:00, 108.18s/it]\n",
      "100%|██████████| 11/11 [1:13:20<00:00, 400.03s/it]  \n"
     ]
    }
   ],
   "source": [
    "mag_list_1000 = []\n",
    "ene_list_1000 = []\n",
    "for T in tqdm(T_list):\n",
    "    solver.set_temperature(T)\n",
    "    solver.run()\n",
    "    mag_list_1000.append(sum(np.absolute(solver.get_magnetizations()))/num_samples)\n",
    "    ene_list_1000.append(sum(solver.get_energies())/num_samples/N)\n",
    "\n",
    "solver.set_num_sweeps(num_sweeps*10)\n",
    "mag_list_10000 = []\n",
    "ene_list_10000 = []\n",
    "for T in tqdm(T_list):\n",
    "    solver.set_temperature(T)\n",
    "    solver.run()\n",
    "    mag_list_10000.append(sum(np.absolute(solver.get_magnetizations()))/num_samples)\n",
    "    ene_list_10000.append(sum(solver.get_energies())/num_samples/N)\n",
    "\n",
    "solver.set_num_sweeps(num_sweeps*100)\n",
    "mag_list_100000 = []\n",
    "ene_list_100000 = []\n",
    "for T in tqdm(T_list):\n",
    "    solver.set_temperature(T)\n",
    "    solver.run()\n",
    "    mag_list_100000.append(sum(np.absolute(solver.get_magnetizations()))/num_samples)\n",
    "    ene_list_100000.append(sum(solver.get_energies())/num_samples/N)"
   ]
  },
  {
   "cell_type": "code",
   "execution_count": 6,
   "metadata": {},
   "outputs": [
    {
     "name": "stderr",
     "output_type": "stream",
     "text": [
      "The PostScript backend does not support transparency; partially transparent artists will be rendered opaque.\n"
     ]
    },
    {
     "data": {
      "image/png": "[encoded data removed]",
      "text/plain": [
       "<Figure size 432x288 with 1 Axes>"
      ]
     },
     "metadata": {
      "needs_background": "light"
     },
     "output_type": "display_data"
    }
   ],
   "source": [
    "plt.scatter(T_list, mag_list_1000, label=\"num_sweeps=1000\")\n",
    "plt.scatter(T_list, mag_list_10000, label=\"num_sweeps=10000\")\n",
    "plt.scatter(T_list, mag_list_100000, label=\"num_sweeps=100000\")\n",
    "plt.xlim(0.01, 0.02)\n",
    "plt.ylim(0.0, 1.0)\n",
    "plt.xlabel(\"Temperature\")\n",
    "plt.ylabel(\"Magnetization\")\n",
    "plt.legend()\n",
    "plt.savefig(\"out.eps\")"
   ]
  },
  {
   "cell_type": "code",
   "execution_count": null,
   "metadata": {},
   "outputs": [],
   "source": []
  }
 ],
 "metadata": {
  "kernelspec": {
   "display_name": "Python 3.9.13 ('.venv': venv)",
   "language": "python",
   "name": "python3"
  },
  "language_info": {
   "codemirror_mode": {
    "name": "ipython",
    "version": 3
   },
   "file_extension": ".py",
   "mimetype": "text/x-python",
   "name": "python",
   "nbconvert_exporter": "python",
   "pygments_lexer": "ipython3",
   "version": "3.9.13"
  },
  "orig_nbformat": 4,
  "vscode": {
   "interpreter": {
    "hash": "24d017418cec40fa3b79e2fbded6b90ee9c3cb6e02aad0dfcf7ad24efbd288a9"
   }
  }
 },
 "nbformat": 4,
 "nbformat_minor": 2
}
