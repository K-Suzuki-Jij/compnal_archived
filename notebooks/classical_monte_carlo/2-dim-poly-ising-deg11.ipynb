{
 "cells": [
  {
   "cell_type": "code",
   "execution_count": 1,
   "metadata": {},
   "outputs": [],
   "source": [
    "import compnal\n",
    "import matplotlib.pyplot as plt\n",
    "import numpy as np\n",
    "from tqdm import tqdm\n",
    "plt.rcParams['xtick.direction'] = 'in'\n",
    "plt.rcParams['ytick.direction'] = 'in'"
   ]
  },
  {
   "cell_type": "code",
   "execution_count": 2,
   "metadata": {},
   "outputs": [],
   "source": [
    "degree = 11\n",
    "J = -1.0\n",
    "x_size = 99\n",
    "y_size = 99"
   ]
  },
  {
   "cell_type": "code",
   "execution_count": 3,
   "metadata": {},
   "outputs": [],
   "source": [
    "lattice = compnal.lattice.Square(\n",
    "    x_size=x_size,\n",
    "    y_size=y_size,\n",
    "    boundary_condition=compnal.lattice.BoundaryCondition.PBC\n",
    ")\n",
    "model = compnal.model.PolynomialIsing(\n",
    "    lattice=lattice, interaction={degree: J}\n",
    ")\n",
    "solver = compnal.solver.ClassicalMonteCarlo(\n",
    "    model=model, \n",
    "    updater=compnal.solver.Updater.METROPOLIS\n",
    ")\n",
    "solver.num_sweeps = 20000\n",
    "solver.num_samples = 2000\n",
    "solver.num_threads = 10\n"
   ]
  },
  {
   "cell_type": "code",
   "execution_count": 4,
   "metadata": {},
   "outputs": [],
   "source": [
    "for t in tqdm(np.arange(0.5, 3.0, 0.1)):\n",
    "    solver.temperature = t\n",
    "    solver.run()\n",
    "    f = np.zeros((model.lattice.x_size, model.lattice.y_size))\n",
    "    for index in range(solver.num_samples):\n",
    "        shaped_sample = np.reshape(solver.get_samples()[index], (model.lattice.x_size, model.lattice.y_size))\n",
    "        f += np.abs(np.fft.fft2(shaped_sample))/model.system_size\n",
    "    f = f/solver.num_samples\n",
    "\n",
    "    plt.imshow(f, origin=\"lower\")\n",
    "    plt.title(f\"T={t}\")\n",
    "    plt.colorbar()\n",
    "    plt.show()"
   ]
  }
 ],
 "metadata": {
  "kernelspec": {
   "display_name": "Python 3.10.8 ('.venv': venv)",
   "language": "python",
   "name": "python3"
  },
  "language_info": {
   "codemirror_mode": {
    "name": "ipython",
    "version": 3
   },
   "file_extension": ".py",
   "mimetype": "text/x-python",
   "name": "python",
   "nbconvert_exporter": "python",
   "pygments_lexer": "ipython3",
   "version": "3.10.8"
  },
  "orig_nbformat": 4,
  "vscode": {
   "interpreter": {
    "hash": "8ed92e5ab898f46ba2915475538f517c568a2d449ec3c7ec354ac0d4dea1203a"
   }
  }
 },
 "nbformat": 4,
 "nbformat_minor": 2
}
