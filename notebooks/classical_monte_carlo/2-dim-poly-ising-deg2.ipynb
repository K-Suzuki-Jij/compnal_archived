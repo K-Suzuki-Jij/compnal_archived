{
 "cells": [
  {
   "cell_type": "code",
   "execution_count": 1,
   "metadata": {},
   "outputs": [],
   "source": [
    "import compnal\n",
    "import matplotlib.pyplot as plt\n",
    "import numpy as np\n",
    "from tqdm import tqdm\n",
    "plt.rcParams['xtick.direction'] = 'in'\n",
    "plt.rcParams['ytick.direction'] = 'in'"
   ]
  },
  {
   "cell_type": "code",
   "execution_count": 2,
   "metadata": {},
   "outputs": [],
   "source": [
    "J = -1.0\n",
    "x_size = 10\n",
    "y_size = 10"
   ]
  },
  {
   "cell_type": "code",
   "execution_count": 3,
   "metadata": {},
   "outputs": [],
   "source": [
    "lattice = compnal.lattice.Square(\n",
    "    x_size=x_size,\n",
    "    y_size=y_size,\n",
    "    boundary_condition=compnal.lattice.BoundaryCondition.OBC\n",
    ")\n",
    "model = compnal.model.Ising(\n",
    "    lattice=lattice, linear = 1.2, quadratic = -1\n",
    ")\n",
    "solver = compnal.solver.ClassicalMonteCarlo(\n",
    "    model=model,\n",
    ")\n",
    "solver.algorithm = compnal.solver.Algorithm.METROPOLIS\n",
    "solver.num_sweeps = 50000\n",
    "solver.num_samples = 1000\n",
    "solver.num_threads = 8\n",
    "solver.temperature = 2\n",
    "T_list = np.arange(100, 101,1)"
   ]
  },
  {
   "cell_type": "code",
   "execution_count": 4,
   "metadata": {},
   "outputs": [
    {
     "name": "stderr",
     "output_type": "stream",
     "text": [
      "100%|██████████| 1/1 [00:22<00:00, 22.58s/it]\n"
     ]
    }
   ],
   "source": [
    "mag = []\n",
    "for t in tqdm(T_list):\n",
    "    solver.temperature = t\n",
    "    solver.run()\n",
    "    #f = np.zeros((model.lattice.x_size, model.lattice.y_size))\n",
    "    #for index in range(solver.num_samples):\n",
    "    #    shaped_sample = np.reshape(solver.get_samples()[index], (model.lattice.x_size, model.lattice.y_size))\n",
    "    #    f += np.abs(np.fft.fft2(shaped_sample))/model.system_size\n",
    "    #f = f/solver.num_samples\n",
    "\n",
    "    #plt.imshow(f, origin=\"lower\")\n",
    "    #plt.title(f\"T={t}\")\n",
    "    #plt.colorbar()\n",
    "    #plt.show()\n",
    "    m = 0.0\n",
    "    for s in solver.get_samples():\n",
    "        m += abs(sum(s))/x_size/y_size\n",
    "    mag.append(m/solver.num_samples)\n",
    "\n",
    "    #for sample in solver.get_samples():\n",
    "    #    plt.scatter(lattice.generate_x_coordinate(), lattice.generate_y_coordinate(), c=sample, s=40, vmin=-1, vmax=1)\n",
    "    #    plt.show()"
   ]
  },
  {
   "cell_type": "code",
   "execution_count": 9,
   "metadata": {},
   "outputs": [
    {
     "data": {
      "text/plain": [
       "<matplotlib.legend.Legend at 0x11cb9b6a0>"
      ]
     },
     "execution_count": 9,
     "metadata": {},
     "output_type": "execute_result"
    },
    {
     "data": {
      "image/png": "[encoded data removed]",
      "text/plain": [
       "<Figure size 640x480 with 1 Axes>"
      ]
     },
     "metadata": {},
     "output_type": "display_data"
    }
   ],
   "source": [
    "plt.plot(T_list, mag, label=\"HEAT_BATH\")\n",
    "#plt.plot(T_list, magmag, label=\"IRKMR\")\n",
    "plt.ylim(0,1)\n",
    "plt.legend()"
   ]
  },
  {
   "cell_type": "code",
   "execution_count": 15,
   "metadata": {},
   "outputs": [],
   "source": [
    "magmag = mag"
   ]
  },
  {
   "cell_type": "code",
   "execution_count": null,
   "metadata": {},
   "outputs": [],
   "source": []
  }
 ],
 "metadata": {
  "kernelspec": {
   "display_name": ".venv",
   "language": "python",
   "name": "python3"
  },
  "language_info": {
   "codemirror_mode": {
    "name": "ipython",
    "version": 3
   },
   "file_extension": ".py",
   "mimetype": "text/x-python",
   "name": "python",
   "nbconvert_exporter": "python",
   "pygments_lexer": "ipython3",
   "version": "3.9.15"
  },
  "orig_nbformat": 4,
  "vscode": {
   "interpreter": {
    "hash": "24d017418cec40fa3b79e2fbded6b90ee9c3cb6e02aad0dfcf7ad24efbd288a9"
   }
  }
 },
 "nbformat": 4,
 "nbformat_minor": 2
}
