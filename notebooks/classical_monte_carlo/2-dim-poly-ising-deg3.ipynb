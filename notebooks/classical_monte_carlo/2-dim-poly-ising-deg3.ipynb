{
 "cells": [
  {
   "cell_type": "code",
   "execution_count": 1,
   "metadata": {},
   "outputs": [],
   "source": [
    "import compnal\n",
    "import matplotlib.pyplot as plt\n",
    "import numpy as np\n",
    "from tqdm import tqdm\n",
    "import os\n",
    "os.environ[\"OPENBLAS_NUM_THREADS\"] = \"10\"\n",
    "os.environ[\"MKL_NUM_THREADS\"] = \"10\"\n",
    "os.environ[\"VECLIB_NUM_THREADS\"] = \"10\"\n",
    "os.environ[\"OMP_NUM_THREADS\"] = \"10\"\n",
    "os.environ[\"NUMEXPR_NUM_THREADS\"] = \"10\"\n",
    "plt.rcParams['xtick.direction'] = 'in'\n",
    "plt.rcParams['ytick.direction'] = 'in'"
   ]
  },
  {
   "cell_type": "code",
   "execution_count": 2,
   "metadata": {},
   "outputs": [],
   "source": [
    "degree = 3\n",
    "J = -1.0\n",
    "x_size = 12\n",
    "y_size = 12"
   ]
  },
  {
   "cell_type": "code",
   "execution_count": 3,
   "metadata": {},
   "outputs": [],
   "source": [
    "lattice = compnal.lattice.Square(\n",
    "    x_size=x_size,\n",
    "    y_size=y_size,\n",
    "    boundary_condition=compnal.lattice.BoundaryCondition.PBC\n",
    ")\n",
    "model = compnal.model.PolynomialIsing(\n",
    "    lattice=lattice, interaction={degree: J}\n",
    ")\n",
    "solver = compnal.solver.ClassicalMonteCarlo(\n",
    "    model=model, \n",
    "    updater=compnal.solver.Updater.METROPOLIS\n",
    ")\n",
    "solver.num_sweeps = 10000\n",
    "solver.num_samples = 10000\n",
    "solver.num_threads = 10\n",
    "T_list = np.arange(1.5, 3.1, 0.1)"
   ]
  },
  {
   "cell_type": "code",
   "execution_count": 4,
   "metadata": {},
   "outputs": [],
   "source": [
    "f_sum_list = []\n",
    "for t in tqdm(T_list):\n",
    "    solver.temperature = t\n",
    "    solver.run()\n",
    "    f = np.zeros((model.lattice.x_size, model.lattice.y_size), dtype=np.complex)\n",
    "    for index in range(solver.num_samples):\n",
    "        shaped_sample = np.reshape(solver.get_samples()[index], (model.lattice.x_size, model.lattice.y_size))\n",
    "        f += np.fft.fft2(shaped_sample)\n",
    "    f = np.abs(f/solver.num_samples)\n",
    "    f_sum  = f[0][0] + f[0][y_size*1//3] + f[0][y_size*2//3]\n",
    "    f_sum += f[x_size*1//3][0] + f[x_size*1//3][y_size*1//3] + f[x_size*1//3][y_size*2//3]\n",
    "    f_sum += f[x_size*2//3][0] + f[x_size*2//3][y_size*1//3] + f[x_size*2//3][y_size*2//3]\n",
    "    f_sum_list.append(f_sum/9)\n",
    "    plt.imshow(f, origin=\"lower\")\n",
    "    plt.title(f\"T={t}\")\n",
    "    plt.colorbar()\n",
    "    plt.show()"
   ]
  },
  {
   "cell_type": "code",
   "execution_count": null,
   "metadata": {},
   "outputs": [
    {
     "data": {
      "text/plain": [
       "[<matplotlib.lines.Line2D at 0x1210a0e20>]"
      ]
     },
     "execution_count": 5,
     "metadata": {},
     "output_type": "execute_result"
    },
    {
     "data": {
      "image/png": "[encoded data removed]",
      "text/plain": [
       "<Figure size 640x480 with 1 Axes>"
      ]
     },
     "metadata": {},
     "output_type": "display_data"
    }
   ],
   "source": [
    "plt.plot(T_list, f_sum_list)"
   ]
  },
  {
   "cell_type": "code",
   "execution_count": null,
   "metadata": {},
   "outputs": [],
   "source": [
    "import itertools\n",
    "import numpy as np\n",
    "import dimod"
   ]
  },
  {
   "cell_type": "code",
   "execution_count": null,
   "metadata": {},
   "outputs": [],
   "source": [
    "J = {}\n",
    "J[((0,0),(0,1),(0,2))] = -1\n",
    "J[((1,0),(1,1),(1,2))] = -1\n",
    "J[((2,0),(2,1),(2,2))] = -1\n",
    "\n",
    "J[((0,0),(1,0),(2,0))] = -1\n",
    "J[((0,1),(1,1),(2,1))] = -1\n",
    "J[((0,2),(1,2),(2,2))] = -1\n",
    "\n",
    "poly = dimod.BinaryPolynomial(J, dimod.SPIN)\n",
    "\n",
    "sample_set = dimod.ExactPolySolver().sample_poly(poly)"
   ]
  },
  {
   "cell_type": "code",
   "execution_count": null,
   "metadata": {},
   "outputs": [
    {
     "name": "stdout",
     "output_type": "stream",
     "text": [
      "16\n",
      "-0.3333333333333333\n",
      "-0.3333333333333333\n",
      "-0.3333333333333333\n",
      "0.1111111111111111\n",
      "0.1111111111111111\n",
      "0.1111111111111111\n",
      "0.1111111111111111\n",
      "-0.3333333333333333\n",
      "-0.3333333333333333\n",
      "0.1111111111111111\n",
      "1.0\n",
      "0.1111111111111111\n",
      "-0.3333333333333333\n",
      "0.1111111111111111\n",
      "0.1111111111111111\n",
      "0.1111111111111111\n",
      "3.8163916471489756e-17 0.11111111111111116 0.06721536351165988\n"
     ]
    }
   ],
   "source": [
    "print(len(sample_set.lowest().record))\n",
    "m = 0.0\n",
    "mm = 0.0\n",
    "mmmm = 0.0\n",
    "for s in sample_set.lowest().record:\n",
    "    spin = sum(s[0]/9)\n",
    "    m += spin\n",
    "    mm += spin*spin\n",
    "    mmmm += spin*spin*spin*spin\n",
    "    print(sum(s[0])/9)\n",
    "    #plt.imshow(np.reshape(s[0], (3, 3)), origin=\"lower\")\n",
    "    #plt.colorbar()\n",
    "    #plt.show()\n",
    "m = m/len(sample_set.lowest().record)\n",
    "mm = mm/len(sample_set.lowest().record)\n",
    "mmmm = mmmm/len(sample_set.lowest().record)\n",
    "print(m, mm, mmmm)"
   ]
  },
  {
   "cell_type": "code",
   "execution_count": null,
   "metadata": {},
   "outputs": [],
   "source": []
  }
 ],
 "metadata": {
  "kernelspec": {
   "display_name": "Python 3.10.8 ('.venv': venv)",
   "language": "python",
   "name": "python3"
  },
  "language_info": {
   "codemirror_mode": {
    "name": "ipython",
    "version": 3
   },
   "file_extension": ".py",
   "mimetype": "text/x-python",
   "name": "python",
   "nbconvert_exporter": "python",
   "pygments_lexer": "ipython3",
   "version": "3.10.8"
  },
  "orig_nbformat": 4,
  "vscode": {
   "interpreter": {
    "hash": "8ed92e5ab898f46ba2915475538f517c568a2d449ec3c7ec354ac0d4dea1203a"
   }
  }
 },
 "nbformat": 4,
 "nbformat_minor": 2
}
